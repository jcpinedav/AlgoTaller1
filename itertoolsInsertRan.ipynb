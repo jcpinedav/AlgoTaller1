{
 "cells": [
  {
   "cell_type": "code",
   "execution_count": 1,
   "metadata": {},
   "outputs": [],
   "source": [
    "from  itertools  import *\n",
    "import random\n",
    "import math\n",
    "import matplotlib.pyplot as plt"
   ]
  },
  {
   "cell_type": "code",
   "execution_count": 2,
   "metadata": {},
   "outputs": [],
   "source": [
    "def insertion_short(A):\n",
    "\n",
    "    comparaciones = 0\n",
    "    intercambios = 0\n",
    "    instrucciones = 0\n",
    "    for i in range(1,len(A)):\n",
    "        temp = A[i]\n",
    "        j = i - 1\n",
    "        while j > -1 and temp < A[j]:\n",
    "            comparaciones += 1\n",
    "            A[j+1] = A[j]\n",
    "            j = j-1\n",
    "            intercambios += 1\n",
    "            instrucciones += 3\n",
    "        instrucciones += 1\n",
    "        A[j+1] = temp\n",
    "        instrucciones += 4\n",
    "\n",
    "        if j != i:\n",
    "            comparaciones += 1\n",
    "\n",
    "    instrucciones += 1\n",
    "    resultados = []\n",
    "    resultados.append(instrucciones)\n",
    "    resultados.append(comparaciones)\n",
    "    resultados.append(intercambios)\n",
    "    return resultados"
   ]
  },
  {
   "cell_type": "code",
   "execution_count": 3,
   "metadata": {},
   "outputs": [
    {
     "name": "stdout",
     "output_type": "stream",
     "text": [
      "ARREGLO DE TAMAÑO 2\n",
      "Número aleatorio de permutaciones: 2\n",
      "La cantidad de instrucciones promedio es: 7.5\n",
      "La cantidad de comparaciones promedio es: 1.5\n",
      "La cantidad de intercambios promedio es: 0.5\n",
      "-----------------------\n",
      "ARREGLO DE TAMAÑO 3\n",
      "Número aleatorio de permutaciones: 3\n",
      "La cantidad de instrucciones promedio es: 17.0\n",
      "La cantidad de comparaciones promedio es: 4.0\n",
      "La cantidad de intercambios promedio es: 2.0\n",
      "-----------------------\n",
      "ARREGLO DE TAMAÑO 4\n",
      "Número aleatorio de permutaciones: 17\n",
      "La cantidad de instrucciones promedio es: 24.647058823529413\n",
      "La cantidad de comparaciones promedio es: 5.882352941176471\n",
      "La cantidad de intercambios promedio es: 2.8823529411764706\n",
      "-----------------------\n",
      "ARREGLO DE TAMAÑO 5\n",
      "Número aleatorio de permutaciones: 91\n",
      "La cantidad de instrucciones promedio es: 35.67032967032967\n",
      "La cantidad de comparaciones promedio es: 8.89010989010989\n",
      "La cantidad de intercambios promedio es: 4.8901098901098905\n",
      "-----------------------\n",
      "ARREGLO DE TAMAÑO 6\n",
      "Número aleatorio de permutaciones: 95\n",
      "La cantidad de instrucciones promedio es: 48.76842105263158\n",
      "La cantidad de comparaciones promedio es: 12.589473684210526\n",
      "La cantidad de intercambios promedio es: 7.589473684210526\n",
      "-----------------------\n",
      "ARREGLO DE TAMAÑO 7\n",
      "Número aleatorio de permutaciones: 3704\n",
      "La cantidad de instrucciones promedio es: 62.53158747300216\n",
      "La cantidad de comparaciones promedio es: 16.510529157667385\n",
      "La cantidad de intercambios promedio es: 10.510529157667387\n",
      "-----------------------\n",
      "ARREGLO DE TAMAÑO 8\n",
      "Número aleatorio de permutaciones: 28301\n",
      "La cantidad de instrucciones promedio es: 78.03498109607435\n",
      "La cantidad de comparaciones promedio es: 21.011660365358114\n",
      "La cantidad de intercambios promedio es: 14.011660365358114\n",
      "-----------------------\n",
      "ARREGLO DE TAMAÑO 9\n",
      "Número aleatorio de permutaciones: 197668\n",
      "La cantidad de instrucciones promedio es: 95.00651091729567\n",
      "La cantidad de comparaciones promedio es: 26.002170305765222\n",
      "La cantidad de intercambios promedio es: 18.002170305765222\n",
      "-----------------------\n",
      "ARREGLO DE TAMAÑO 10\n",
      "Número aleatorio de permutaciones: 617070\n",
      "La cantidad de instrucciones promedio es: 113.51513928727697\n",
      "La cantidad de comparaciones promedio es: 31.505046429092324\n",
      "La cantidad de intercambios promedio es: 22.505046429092324\n",
      "-----------------------\n"
     ]
    }
   ],
   "source": [
    "for n in range(2,11):\n",
    "    perm = []\n",
    "    A = list(i for i in range(n))\n",
    "    acum_ins = 0\n",
    "    acum_c = 0\n",
    "    acum_int = 0\n",
    "    n1 = random.randint(1, math.factorial(n))\n",
    "    permutaciones = list(permutations(A))\n",
    "    random.shuffle(permutaciones)\n",
    "    for a in range(n1):\n",
    "        acum = insertion_short(list(permutaciones[a]))\n",
    "        acum_ins += acum[0]\n",
    "        acum_c += acum[1]\n",
    "        acum_int += acum[2]\n",
    "\n",
    "    print('ARREGLO DE TAMAÑO {}'.format(n))\n",
    "    print('Número aleatorio de permutaciones: {}'.format(n1))\n",
    "    print('La cantidad de instrucciones promedio es: {}'.format(float(acum_ins / n1)))\n",
    "    print('La cantidad de comparaciones promedio es: {}'.format(float(acum_c / n1)))\n",
    "    print('La cantidad de intercambios promedio es: {}'.format(float(acum_int / n1)))\n",
    "    print('-----------------------')"
   ]
  },
  {
   "cell_type": "code",
   "execution_count": null,
   "metadata": {},
   "outputs": [],
   "source": []
  }
 ],
 "metadata": {
  "kernelspec": {
   "display_name": "Python 3",
   "language": "python",
   "name": "python3"
  },
  "language_info": {
   "codemirror_mode": {
    "name": "ipython",
    "version": 3
   },
   "file_extension": ".py",
   "mimetype": "text/x-python",
   "name": "python",
   "nbconvert_exporter": "python",
   "pygments_lexer": "ipython3",
   "version": "3.6.5"
  }
 },
 "nbformat": 4,
 "nbformat_minor": 2
}
